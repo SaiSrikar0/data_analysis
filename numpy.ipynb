{
 "cells": [
  {
   "cell_type": "markdown",
   "id": "61c13de0",
   "metadata": {},
   "source": [
    "# NumPy – Numerical Python\n",
    "## 1. Why Learn NumPy?\n",
    "\n",
    "#### What is it?\n",
    "\n",
    "NumPy is a powerful Python library for numerical computations. It provides fast and memory-efficient multi-dimensional arrays.\n",
    "\n",
    "#### Why we need it?\n",
    "\n",
    "1.Pure Python lists are slow for large datasets.\n",
    "\n",
    "2.NumPy arrays are optimized for speed and vectorized operations.\n",
    "\n",
    "3.Most Data Science & Machine Learning libraries (like Pandas, Scikit-Learn, TensorFlow) are built on top of NumPy.\n",
    "\n",
    "#### Where is it used?\n",
    "\n",
    "1.Data Analysis\n",
    "\n",
    "2.Machine Learning & Deep Learning\n",
    "\n",
    "3.Image Processing (OpenCV, PIL use NumPy arrays)\n",
    "\n",
    "5.Scientific Computing & Simulations\n"
   ]
  },
  {
   "cell_type": "code",
   "execution_count": 7,
   "id": "5c91f316",
   "metadata": {},
   "outputs": [],
   "source": [
    "import numpy as np"
   ]
  },
  {
   "cell_type": "markdown",
   "id": "c321735c",
   "metadata": {},
   "source": [
    "# ARRAYS VS PYTHON LISTS"
   ]
  },
  {
   "cell_type": "markdown",
   "id": "2ea99e26",
   "metadata": {},
   "source": [
    "## 2. Importing NumPy\n",
    "\n",
    "\n",
    "## 3. Arrays vs Python Lists\n",
    "\n",
    "\n",
    "\n"
   ]
  },
  {
   "cell_type": "code",
   "execution_count": 8,
   "id": "5351c484",
   "metadata": {},
   "outputs": [
    {
     "name": "stdout",
     "output_type": "stream",
     "text": [
      "Python list sum time: 0.02319478988647461\n",
      "NumPy array sum time: 0.005922555923461914\n"
     ]
    }
   ],
   "source": [
    "## 2. Importing NumPy\n",
    "import numpy as np\n",
    "\n",
    "## 3. Arrays vs Python Lists\n",
    "import numpy as np\n",
    "import time\n",
    "\n",
    "# Python list\n",
    "py_list = [i for i in range(1000000)]\n",
    "\n",
    "# NumPy array\n",
    "np_array = np.arange(1000000)\n",
    "\n",
    "# Time comparison\n",
    "start = time.time()\n",
    "sum(py_list)\n",
    "print(\"Python list sum time:\", time.time() - start)\n",
    "\n",
    "start = time.time()\n",
    "np.sum(np_array)\n",
    "print(\"NumPy array sum time:\", time.time() - start)\n",
    "\n",
    "\n"
   ]
  },
  {
   "cell_type": "markdown",
   "id": "698d5a97",
   "metadata": {},
   "source": [
    "## 4. Creating Arrays\n"
   ]
  },
  {
   "cell_type": "code",
   "execution_count": 9,
   "id": "e70a57c1",
   "metadata": {},
   "outputs": [
    {
     "name": "stdout",
     "output_type": "stream",
     "text": [
      "Array: [1 2 3 4 5]\n",
      "Zeros: [[0. 0. 0.]\n",
      " [0. 0. 0.]]\n",
      "Ones: [[1. 1. 1.]\n",
      " [1. 1. 1.]]\n",
      "Arange: [0 2 4 6 8]\n",
      "Linspace: [0.   0.25 0.5  0.75 1.  ]\n"
     ]
    }
   ],
   "source": [
    "# From list \n",
    "arr = np.array([1, 2, 3, 4, 5])\n",
    "print(\"Array:\", arr)\n",
    "\n",
    "# Zeros and Ones\n",
    "print(\"Zeros:\", np.zeros((2,3)))\n",
    "print(\"Ones:\", np.ones((2,3)))\n",
    "\n",
    "# Range and Linspace\n",
    "print(\"Arange:\", np.arange(0, 10, 2))\n",
    "print(\"Linspace:\", np.linspace(0, 1, 5))"
   ]
  },
  {
   "cell_type": "markdown",
   "id": "a119bdc6",
   "metadata": {},
   "source": [
    "## 5. Array Properties\n",
    "\n"
   ]
  },
  {
   "cell_type": "code",
   "execution_count": 10,
   "id": "1ce2668e",
   "metadata": {},
   "outputs": [
    {
     "name": "stdout",
     "output_type": "stream",
     "text": [
      "Array shape: (2, 3)\n",
      "Array dtype: int64\n",
      "Array size: 6\n",
      "Array ndim: 2\n"
     ]
    }
   ],
   "source": [
    "## 5. Array Properties\n",
    "\n",
    "arr = np.array([[1,2,3],[4,5,6]])\n",
    "print(\"Array shape:\", arr.shape)\n",
    "print(\"Array dtype:\", arr.dtype)\n",
    "print(\"Array size:\", arr.size)\n",
    "print(\"Array ndim:\", arr.ndim)"
   ]
  },
  {
   "cell_type": "markdown",
   "id": "3e7b4789",
   "metadata": {},
   "source": [
    "## 6. Indexing and Slicing"
   ]
  },
  {
   "cell_type": "code",
   "execution_count": 13,
   "id": "391ccdb9",
   "metadata": {},
   "outputs": [
    {
     "name": "stdout",
     "output_type": "stream",
     "text": [
      "Element at index 2: 30\n",
      "Elements from index 1 to 3: [20 30 40]\n",
      "Elements at indices 0, 2, 4: [10 30 50]\n",
      "Every second element: [10 30 50]\n",
      "Reversed array: [50 40 30 20 10]\n",
      "Matrix:\n",
      " [[1 2 3]\n",
      " [4 5 6]\n",
      " [7 8 9]]\n",
      "Matrix shape: (3, 3)\n",
      "Matrix dtype: int64\n",
      "Matrix size: 9\n",
      "Matrix ndim: 2\n",
      "2\n",
      "[4 5 6]\n",
      "[3 6 9]\n",
      "Transpose:\n",
      " [[1 4 7]\n",
      " [2 5 8]\n",
      " [3 6 9]]\n",
      "Sum of all elements: 45\n",
      "Sum of each column: [12 15 18]\n",
      "Sum of each row: [ 6 15 24]\n",
      "Mean of all elements: 5.0\n",
      "Mean of each column: [4. 5. 6.]\n",
      "Mean of each row: [2. 5. 8.]\n",
      "Element-wise multiplication:\n",
      " [[ 2  4  6]\n",
      " [ 8 10 12]\n",
      " [14 16 18]]\n",
      "Matrix multiplication:\n",
      " [[ 30  36  42]\n",
      " [ 66  81  96]\n",
      " [102 126 150]]\n"
     ]
    }
   ],
   "source": [
    "## 6. Indexing and Slicing\n",
    "arr = np.array([10,20,30,40,50])\n",
    "print(\"Element at index 2:\", arr[2])\n",
    "print(\"Elements from index 1 to 3:\", arr[1:4])\n",
    "print(\"Elements at indices 0, 2, 4:\", arr[[0,2,4]])\n",
    "print(\"Every second element:\", arr[::2])\n",
    "print(\"Reversed array:\", arr[::-1])\n",
    "#----------------------\n",
    "matrix = np.array([[1,2,3],[4,5,6],[7,8,9]])\n",
    "print(\"Matrix:\\n\", matrix)\n",
    "print(\"Matrix shape:\", matrix.shape)\n",
    "print(\"Matrix dtype:\", matrix.dtype)\n",
    "print(\"Matrix size:\", matrix.size)\n",
    "print(\"Matrix ndim:\", matrix.ndim)\n",
    "print(matrix[0,1]) # element at row 0, col 1\n",
    "print(matrix[1,:]) # entire row 1\n",
    "print(matrix[:,2]) # entire col 2\n",
    "# Matrix operations\n",
    "print(\"Transpose:\\n\", matrix.T)\n",
    "print(\"Sum of all elements:\", np.sum(matrix))\n",
    "print(\"Sum of each column:\", np.sum(matrix, axis=0))\n",
    "print(\"Sum of each row:\", np.sum(matrix, axis=1))\n",
    "print(\"Mean of all elements:\", np.mean(matrix))\n",
    "print(\"Mean of each column:\", np.mean(matrix, axis=0))\n",
    "print(\"Mean of each row:\", np.mean(matrix, axis=1))\n",
    "print(\"Element-wise multiplication:\\n\", matrix * 2)\n",
    "print(\"Matrix multiplication:\\n\", np.dot(matrix, matrix))  "
   ]
  },
  {
   "cell_type": "markdown",
   "id": "672bbb81",
   "metadata": {},
   "source": [
    "## 7. Operations and Broadcasting\n",
    "\n"
   ]
  },
  {
   "cell_type": "code",
   "execution_count": 16,
   "id": "c8fce099",
   "metadata": {},
   "outputs": [
    {
     "name": "stdout",
     "output_type": "stream",
     "text": [
      "a + b: [5 7 9]\n",
      "a * b: [ 4 10 18]\n",
      "a + 10: [11 12 13]\n",
      "a * 2: [2 4 6]\n"
     ]
    }
   ],
   "source": [
    "a = np.array([1,2,3]) \n",
    "b = np.array([4,5,6])\n",
    "print(\"a + b:\", a + b)            # Element-wise addition\n",
    "print(\"a * b:\", a * b)            # Element-wise multiplication\n",
    "print(\"a + 10:\", a + 10)          # Broadcasting\n",
    "print(\"a * 2:\", a * 2)            # Broadcasting"
   ]
  },
  {
   "cell_type": "markdown",
   "id": "1b9dc0e4",
   "metadata": {},
   "source": [
    "## 8. Mathematical Functions\n"
   ]
  },
  {
   "cell_type": "code",
   "execution_count": 15,
   "id": "611a561f",
   "metadata": {},
   "outputs": [
    {
     "name": "stdout",
     "output_type": "stream",
     "text": [
      "Sum: 15\n",
      "Mean: 3.0\n",
      "Max: 5\n",
      "Min: 1\n",
      "Standard Deviation: 1.4142135623730951\n",
      "Variance: 2.0\n",
      "Square Root: [1.         1.41421356 1.73205081 2.         2.23606798]\n",
      "Exponential: [  2.71828183   7.3890561   20.08553692  54.59815003 148.4131591 ]\n",
      "Logarithm: [0.         0.69314718 1.09861229 1.38629436 1.60943791]\n"
     ]
    }
   ],
   "source": [
    "arr = np.array([1,2,3,4,5])\n",
    "print(\"Sum:\", np.sum(arr))\n",
    "print(\"Mean:\", np.mean(arr))\n",
    "print(\"Max:\", np.max(arr))\n",
    "print(\"Min:\", np.min(arr))\n",
    "print(\"Standard Deviation:\", np.std(arr))\n",
    "print(\"Variance:\", np.var(arr))\n",
    "print(\"Square Root:\", np.sqrt(arr))\n",
    "print(\"Exponential:\", np.exp(arr))\n",
    "print(\"Logarithm:\", np.log(arr))"
   ]
  },
  {
   "cell_type": "markdown",
   "id": "974e43b2",
   "metadata": {},
   "source": [
    "\n",
    "## 9. Reshaping Arrays"
   ]
  },
  {
   "cell_type": "code",
   "execution_count": 17,
   "id": "18e207a9",
   "metadata": {},
   "outputs": [
    {
     "name": "stdout",
     "output_type": "stream",
     "text": [
      "Original array: [ 1  2  3  4  5  6  7  8  9 10 11 12]\n",
      "Reshaped array (3x4):\n",
      " [[ 1  2  3  4]\n",
      " [ 5  6  7  8]\n",
      " [ 9 10 11 12]]\n",
      "Flattened array: [ 1  2  3  4  5  6  7  8  9 10 11 12]\n"
     ]
    }
   ],
   "source": [
    "\n",
    "arr = np.arange(1, 13)\n",
    "reshaped = arr.reshape((3,4))\n",
    "print(\"Original array:\", arr)\n",
    "print(\"Reshaped array (3x4):\\n\", reshaped)\n",
    "flattened = reshaped.flatten()\n",
    "print(\"Flattened array:\", flattened)"
   ]
  },
  {
   "cell_type": "code",
   "execution_count": 22,
   "id": "04bb0013",
   "metadata": {},
   "outputs": [
    {
     "name": "stdout",
     "output_type": "stream",
     "text": [
      "3x3 Array:\n",
      " [[1 2 3]\n",
      " [4 5 6]\n",
      " [7 8 9]]\n",
      "Second row: [4 5 6]\n"
     ]
    }
   ],
   "source": [
    "#create an array which is 3x3 and the elements inside the array are from 1 to 9 and extract the second row\n",
    "arr = np.arange(1, 10).reshape((3, 3))\n",
    "print(\"3x3 Array:\\n\", arr)\n",
    "print(\"Second row:\", arr[1, :])"
   ]
  },
  {
   "cell_type": "code",
   "execution_count": null,
   "id": "790ad440",
   "metadata": {},
   "outputs": [
    {
     "name": "stdout",
     "output_type": "stream",
     "text": [
      "Mean: 20.4\n",
      "Median: 20.0\n",
      "Standard Deviation: 6.529931086925803\n"
     ]
    }
   ],
   "source": [
    "#Find the mean, median, and standard deviation of [12, 15, 20, 25, 30].\n",
    "data = np.array([12, 15, 20, 25, 30])\n",
    "mean = np.mean(data)\n",
    "median = np.median(data)\n",
    "std_dev = np.std(data)\n",
    "print(\"Mean:\", mean)\n",
    "print(\"Median:\", median)\n",
    "print(\"Standard Deviation:\", std_dev)"
   ]
  },
  {
   "cell_type": "code",
   "execution_count": 25,
   "id": "50741fb2",
   "metadata": {},
   "outputs": [
    {
     "name": "stdout",
     "output_type": "stream",
     "text": [
      "Random Matrix:\n",
      " [[0.79231027 0.04876566 0.62150717 0.77308132 0.225246  ]\n",
      " [0.36740869 0.61530876 0.92708638 0.02450141 0.14961625]\n",
      " [0.6400108  0.09693031 0.19685145 0.35028361 0.43911202]\n",
      " [0.4680674  0.47842044 0.02256587 0.72629917 0.30668592]\n",
      " [0.6111794  0.52136121 0.50730147 0.63684134 0.04513753]]\n",
      "Max Value: 0.9270863812870278\n",
      "Min Value: 0.02256586774176561\n"
     ]
    }
   ],
   "source": [
    "#Generate a random 5×5 matrix and find its maximum and minimum values.\n",
    "#(Hint: Use np.random.rand for random numbers)\n",
    "random_matrix = np.random.rand(5, 5)\n",
    "max_value = np.max(random_matrix)\n",
    "min_value = np.min(random_matrix)\n",
    "print(\"Random Matrix:\\n\", random_matrix)\n",
    "print(\"Max Value:\", max_value)\n",
    "print(\"Min Value:\", min_value)"
   ]
  },
  {
   "cell_type": "code",
   "execution_count": null,
   "id": "4a642fba",
   "metadata": {},
   "outputs": [],
   "source": []
  }
 ],
 "metadata": {
  "kernelspec": {
   "display_name": "base",
   "language": "python",
   "name": "python3"
  },
  "language_info": {
   "codemirror_mode": {
    "name": "ipython",
    "version": 3
   },
   "file_extension": ".py",
   "mimetype": "text/x-python",
   "name": "python",
   "nbconvert_exporter": "python",
   "pygments_lexer": "ipython3",
   "version": "3.13.5"
  }
 },
 "nbformat": 4,
 "nbformat_minor": 5
}
